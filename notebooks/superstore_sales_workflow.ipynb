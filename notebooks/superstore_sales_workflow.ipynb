{
  "cells": [
    {
      "cell_type": "markdown",
      "metadata": {},
      "source": [
        "# Superstore Sales Workflow Tutorial\n",
        "\n",
        "This notebook walks through cleaning the Superstore dataset, designing a relational structure, creating an SQLite database, and running example SQL queries and visualizations."
      ]
    },
    {
      "cell_type": "code",
      "execution_count": null,
      "metadata": {},
      "outputs": [],
      "source": [
        "import pandas as pd\n",
        "import sqlite3\n",
        "import matplotlib.pyplot as plt\n",
        "import seaborn as sns\n",
        "import matplotlib.ticker as mticker"
      ]
    },
    {
      "cell_type": "markdown",
      "metadata": {},
      "source": [
        "## 1️) Load and Inspect the Dataset"
      ]
    },
    {
      "cell_type": "code",
      "execution_count": 2,
      "metadata": {},
      "outputs": [
        {
          "data": {
            "text/html": [
              "<div>\n",
              "<style scoped>\n",
              "    .dataframe tbody tr th:only-of-type {\n",
              "        vertical-align: middle;\n",
              "    }\n",
              "\n",
              "    .dataframe tbody tr th {\n",
              "        vertical-align: top;\n",
              "    }\n",
              "\n",
              "    .dataframe thead th {\n",
              "        text-align: right;\n",
              "    }\n",
              "</style>\n",
              "<table border=\"1\" class=\"dataframe\">\n",
              "  <thead>\n",
              "    <tr style=\"text-align: right;\">\n",
              "      <th></th>\n",
              "      <th>Row ID</th>\n",
              "      <th>Order ID</th>\n",
              "      <th>Order Date</th>\n",
              "      <th>Ship Date</th>\n",
              "      <th>Ship Mode</th>\n",
              "      <th>Customer ID</th>\n",
              "      <th>Customer Name</th>\n",
              "      <th>Segment</th>\n",
              "      <th>Country</th>\n",
              "      <th>City</th>\n",
              "      <th>...</th>\n",
              "      <th>Postal Code</th>\n",
              "      <th>Region</th>\n",
              "      <th>Product ID</th>\n",
              "      <th>Category</th>\n",
              "      <th>Sub-Category</th>\n",
              "      <th>Product Name</th>\n",
              "      <th>Sales</th>\n",
              "      <th>Quantity</th>\n",
              "      <th>Discount</th>\n",
              "      <th>Profit</th>\n",
              "    </tr>\n",
              "  </thead>\n",
              "  <tbody>\n",
              "    <tr>\n",
              "      <th>0</th>\n",
              "      <td>1</td>\n",
              "      <td>CA-2013-152156</td>\n",
              "      <td>09-11-2013</td>\n",
              "      <td>12-11-2013</td>\n",
              "      <td>Second Class</td>\n",
              "      <td>CG-12520</td>\n",
              "      <td>Claire Gute</td>\n",
              "      <td>Consumer</td>\n",
              "      <td>United States</td>\n",
              "      <td>Henderson</td>\n",
              "      <td>...</td>\n",
              "      <td>42420</td>\n",
              "      <td>South</td>\n",
              "      <td>FUR-BO-10001798</td>\n",
              "      <td>Furniture</td>\n",
              "      <td>Bookcases</td>\n",
              "      <td>Bush Somerset Collection Bookcase</td>\n",
              "      <td>261.9600</td>\n",
              "      <td>2</td>\n",
              "      <td>0.00</td>\n",
              "      <td>41.9136</td>\n",
              "    </tr>\n",
              "    <tr>\n",
              "      <th>1</th>\n",
              "      <td>2</td>\n",
              "      <td>CA-2013-152156</td>\n",
              "      <td>09-11-2013</td>\n",
              "      <td>12-11-2013</td>\n",
              "      <td>Second Class</td>\n",
              "      <td>CG-12520</td>\n",
              "      <td>Claire Gute</td>\n",
              "      <td>Consumer</td>\n",
              "      <td>United States</td>\n",
              "      <td>Henderson</td>\n",
              "      <td>...</td>\n",
              "      <td>42420</td>\n",
              "      <td>South</td>\n",
              "      <td>FUR-CH-10000454</td>\n",
              "      <td>Furniture</td>\n",
              "      <td>Chairs</td>\n",
              "      <td>Hon Deluxe Fabric Upholstered Stacking Chairs,...</td>\n",
              "      <td>731.9400</td>\n",
              "      <td>3</td>\n",
              "      <td>0.00</td>\n",
              "      <td>219.5820</td>\n",
              "    </tr>\n",
              "    <tr>\n",
              "      <th>2</th>\n",
              "      <td>3</td>\n",
              "      <td>CA-2013-138688</td>\n",
              "      <td>13-06-2013</td>\n",
              "      <td>17-06-2013</td>\n",
              "      <td>Second Class</td>\n",
              "      <td>DV-13045</td>\n",
              "      <td>Darrin Van Huff</td>\n",
              "      <td>Corporate</td>\n",
              "      <td>United States</td>\n",
              "      <td>Los Angeles</td>\n",
              "      <td>...</td>\n",
              "      <td>90036</td>\n",
              "      <td>West</td>\n",
              "      <td>OFF-LA-10000240</td>\n",
              "      <td>Office Supplies</td>\n",
              "      <td>Labels</td>\n",
              "      <td>Self-Adhesive Address Labels for Typewriters b...</td>\n",
              "      <td>14.6200</td>\n",
              "      <td>2</td>\n",
              "      <td>0.00</td>\n",
              "      <td>6.8714</td>\n",
              "    </tr>\n",
              "    <tr>\n",
              "      <th>3</th>\n",
              "      <td>4</td>\n",
              "      <td>US-2012-108966</td>\n",
              "      <td>11-10-2012</td>\n",
              "      <td>18-10-2012</td>\n",
              "      <td>Standard Class</td>\n",
              "      <td>SO-20335</td>\n",
              "      <td>Sean O'Donnell</td>\n",
              "      <td>Consumer</td>\n",
              "      <td>United States</td>\n",
              "      <td>Fort Lauderdale</td>\n",
              "      <td>...</td>\n",
              "      <td>33311</td>\n",
              "      <td>South</td>\n",
              "      <td>FUR-TA-10000577</td>\n",
              "      <td>Furniture</td>\n",
              "      <td>Tables</td>\n",
              "      <td>Bretford CR4500 Series Slim Rectangular Table</td>\n",
              "      <td>957.5775</td>\n",
              "      <td>5</td>\n",
              "      <td>0.45</td>\n",
              "      <td>-383.0310</td>\n",
              "    </tr>\n",
              "    <tr>\n",
              "      <th>4</th>\n",
              "      <td>5</td>\n",
              "      <td>US-2012-108966</td>\n",
              "      <td>11-10-2012</td>\n",
              "      <td>18-10-2012</td>\n",
              "      <td>Standard Class</td>\n",
              "      <td>SO-20335</td>\n",
              "      <td>Sean O'Donnell</td>\n",
              "      <td>Consumer</td>\n",
              "      <td>United States</td>\n",
              "      <td>Fort Lauderdale</td>\n",
              "      <td>...</td>\n",
              "      <td>33311</td>\n",
              "      <td>South</td>\n",
              "      <td>OFF-ST-10000760</td>\n",
              "      <td>Office Supplies</td>\n",
              "      <td>Storage</td>\n",
              "      <td>Eldon Fold 'N Roll Cart System</td>\n",
              "      <td>22.3680</td>\n",
              "      <td>2</td>\n",
              "      <td>0.20</td>\n",
              "      <td>2.5164</td>\n",
              "    </tr>\n",
              "  </tbody>\n",
              "</table>\n",
              "<p>5 rows × 21 columns</p>\n",
              "</div>"
            ],
            "text/plain": [
              "   Row ID        Order ID  Order Date   Ship Date       Ship Mode Customer ID  \\\n",
              "0       1  CA-2013-152156  09-11-2013  12-11-2013    Second Class    CG-12520   \n",
              "1       2  CA-2013-152156  09-11-2013  12-11-2013    Second Class    CG-12520   \n",
              "2       3  CA-2013-138688  13-06-2013  17-06-2013    Second Class    DV-13045   \n",
              "3       4  US-2012-108966  11-10-2012  18-10-2012  Standard Class    SO-20335   \n",
              "4       5  US-2012-108966  11-10-2012  18-10-2012  Standard Class    SO-20335   \n",
              "\n",
              "     Customer Name    Segment        Country             City  ...  \\\n",
              "0      Claire Gute   Consumer  United States        Henderson  ...   \n",
              "1      Claire Gute   Consumer  United States        Henderson  ...   \n",
              "2  Darrin Van Huff  Corporate  United States      Los Angeles  ...   \n",
              "3   Sean O'Donnell   Consumer  United States  Fort Lauderdale  ...   \n",
              "4   Sean O'Donnell   Consumer  United States  Fort Lauderdale  ...   \n",
              "\n",
              "  Postal Code  Region       Product ID         Category Sub-Category  \\\n",
              "0       42420   South  FUR-BO-10001798        Furniture    Bookcases   \n",
              "1       42420   South  FUR-CH-10000454        Furniture       Chairs   \n",
              "2       90036    West  OFF-LA-10000240  Office Supplies       Labels   \n",
              "3       33311   South  FUR-TA-10000577        Furniture       Tables   \n",
              "4       33311   South  OFF-ST-10000760  Office Supplies      Storage   \n",
              "\n",
              "                                        Product Name     Sales  Quantity  \\\n",
              "0                  Bush Somerset Collection Bookcase  261.9600         2   \n",
              "1  Hon Deluxe Fabric Upholstered Stacking Chairs,...  731.9400         3   \n",
              "2  Self-Adhesive Address Labels for Typewriters b...   14.6200         2   \n",
              "3      Bretford CR4500 Series Slim Rectangular Table  957.5775         5   \n",
              "4                     Eldon Fold 'N Roll Cart System   22.3680         2   \n",
              "\n",
              "   Discount    Profit  \n",
              "0      0.00   41.9136  \n",
              "1      0.00  219.5820  \n",
              "2      0.00    6.8714  \n",
              "3      0.45 -383.0310  \n",
              "4      0.20    2.5164  \n",
              "\n",
              "[5 rows x 21 columns]"
            ]
          },
          "execution_count": 2,
          "metadata": {},
          "output_type": "execute_result"
        }
      ],
      "source": [
        "# reading error codes + research is how you can learn if there is different encoding, as seen below\n",
        "df = pd.read_csv('../data/Superstore.csv', encoding='ISO-8859-1')\n",
        "df.head()"
      ]
    },
    {
      "cell_type": "markdown",
      "id": "856cd0c4",
      "metadata": {},
      "source": [
        "### Double check some datatypes, and for nulls and duplicates:"
      ]
    },
    {
      "cell_type": "code",
      "execution_count": 3,
      "metadata": {},
      "outputs": [
        {
          "name": "stdout",
          "output_type": "stream",
          "text": [
            "<class 'pandas.core.frame.DataFrame'>\n",
            "RangeIndex: 9994 entries, 0 to 9993\n",
            "Data columns (total 21 columns):\n",
            " #   Column         Non-Null Count  Dtype  \n",
            "---  ------         --------------  -----  \n",
            " 0   Row ID         9994 non-null   int64  \n",
            " 1   Order ID       9994 non-null   object \n",
            " 2   Order Date     9994 non-null   object \n",
            " 3   Ship Date      9994 non-null   object \n",
            " 4   Ship Mode      9994 non-null   object \n",
            " 5   Customer ID    9994 non-null   object \n",
            " 6   Customer Name  9994 non-null   object \n",
            " 7   Segment        9994 non-null   object \n",
            " 8   Country        9994 non-null   object \n",
            " 9   City           9994 non-null   object \n",
            " 10  State          9994 non-null   object \n",
            " 11  Postal Code    9994 non-null   int64  \n",
            " 12  Region         9994 non-null   object \n",
            " 13  Product ID     9994 non-null   object \n",
            " 14  Category       9994 non-null   object \n",
            " 15  Sub-Category   9994 non-null   object \n",
            " 16  Product Name   9994 non-null   object \n",
            " 17  Sales          9994 non-null   float64\n",
            " 18  Quantity       9994 non-null   int64  \n",
            " 19  Discount       9994 non-null   float64\n",
            " 20  Profit         9994 non-null   float64\n",
            "dtypes: float64(3), int64(3), object(15)\n",
            "memory usage: 1.6+ MB\n"
          ]
        }
      ],
      "source": [
        "df.info()"
      ]
    },
    {
      "cell_type": "code",
      "execution_count": 4,
      "id": "d26cc872",
      "metadata": {},
      "outputs": [
        {
          "data": {
            "text/plain": [
              "np.int64(0)"
            ]
          },
          "execution_count": 4,
          "metadata": {},
          "output_type": "execute_result"
        }
      ],
      "source": [
        "df.duplicated().sum()"
      ]
    },
    {
      "cell_type": "code",
      "execution_count": 5,
      "id": "d8b6be96",
      "metadata": {},
      "outputs": [
        {
          "data": {
            "text/plain": [
              "Row ID           0\n",
              "Order ID         0\n",
              "Order Date       0\n",
              "Ship Date        0\n",
              "Ship Mode        0\n",
              "Customer ID      0\n",
              "Customer Name    0\n",
              "Segment          0\n",
              "Country          0\n",
              "City             0\n",
              "State            0\n",
              "Postal Code      0\n",
              "Region           0\n",
              "Product ID       0\n",
              "Category         0\n",
              "Sub-Category     0\n",
              "Product Name     0\n",
              "Sales            0\n",
              "Quantity         0\n",
              "Discount         0\n",
              "Profit           0\n",
              "dtype: int64"
            ]
          },
          "execution_count": 5,
          "metadata": {},
          "output_type": "execute_result"
        }
      ],
      "source": [
        "df.isnull().sum()"
      ]
    },
    {
      "cell_type": "markdown",
      "id": "15a520b3",
      "metadata": {},
      "source": [
        "This data is incredibly clean - we can see there are no null values and no duplicates. However, there are some dates that could be saved in a better format."
      ]
    },
    {
      "cell_type": "markdown",
      "metadata": {},
      "source": [
        "## 2) Data Cleaning"
      ]
    },
    {
      "cell_type": "code",
      "execution_count": 6,
      "metadata": {},
      "outputs": [],
      "source": [
        "df['Order Date'] = pd.to_datetime(df['Order Date'], dayfirst=True)\n",
        "df['Ship Date'] = pd.to_datetime(df['Ship Date'], dayfirst=True)"
      ]
    },
    {
      "cell_type": "code",
      "execution_count": 7,
      "id": "44108db3",
      "metadata": {},
      "outputs": [
        {
          "data": {
            "text/plain": [
              "Row ID                    int64\n",
              "Order ID                 object\n",
              "Order Date       datetime64[ns]\n",
              "Ship Date        datetime64[ns]\n",
              "Ship Mode                object\n",
              "Customer ID              object\n",
              "Customer Name            object\n",
              "Segment                  object\n",
              "Country                  object\n",
              "City                     object\n",
              "State                    object\n",
              "Postal Code               int64\n",
              "Region                   object\n",
              "Product ID               object\n",
              "Category                 object\n",
              "Sub-Category             object\n",
              "Product Name             object\n",
              "Sales                   float64\n",
              "Quantity                  int64\n",
              "Discount                float64\n",
              "Profit                  float64\n",
              "dtype: object"
            ]
          },
          "execution_count": 7,
          "metadata": {},
          "output_type": "execute_result"
        }
      ],
      "source": [
        "df.dtypes"
      ]
    },
    {
      "cell_type": "code",
      "execution_count": 8,
      "id": "8a7388c1",
      "metadata": {},
      "outputs": [
        {
          "data": {
            "text/plain": [
              "array(['Consumer', 'Corporate', 'Home Office'], dtype=object)"
            ]
          },
          "execution_count": 8,
          "metadata": {},
          "output_type": "execute_result"
        }
      ],
      "source": [
        "df.Segment.unique()"
      ]
    },
    {
      "cell_type": "code",
      "execution_count": 9,
      "id": "e0defb73",
      "metadata": {},
      "outputs": [
        {
          "data": {
            "text/html": [
              "<div>\n",
              "<style scoped>\n",
              "    .dataframe tbody tr th:only-of-type {\n",
              "        vertical-align: middle;\n",
              "    }\n",
              "\n",
              "    .dataframe tbody tr th {\n",
              "        vertical-align: top;\n",
              "    }\n",
              "\n",
              "    .dataframe thead th {\n",
              "        text-align: right;\n",
              "    }\n",
              "</style>\n",
              "<table border=\"1\" class=\"dataframe\">\n",
              "  <thead>\n",
              "    <tr style=\"text-align: right;\">\n",
              "      <th></th>\n",
              "      <th>Row ID</th>\n",
              "      <th>Order ID</th>\n",
              "      <th>Order Date</th>\n",
              "      <th>Ship Date</th>\n",
              "      <th>Ship Mode</th>\n",
              "      <th>Customer ID</th>\n",
              "      <th>Customer Name</th>\n",
              "      <th>customer_category</th>\n",
              "      <th>Country</th>\n",
              "      <th>City</th>\n",
              "      <th>...</th>\n",
              "      <th>Postal Code</th>\n",
              "      <th>Region</th>\n",
              "      <th>Product ID</th>\n",
              "      <th>Category</th>\n",
              "      <th>Sub-Category</th>\n",
              "      <th>Product Name</th>\n",
              "      <th>Sales</th>\n",
              "      <th>Quantity</th>\n",
              "      <th>Discount</th>\n",
              "      <th>Profit</th>\n",
              "    </tr>\n",
              "  </thead>\n",
              "  <tbody>\n",
              "    <tr>\n",
              "      <th>0</th>\n",
              "      <td>1</td>\n",
              "      <td>CA-2013-152156</td>\n",
              "      <td>2013-11-09</td>\n",
              "      <td>2013-11-12</td>\n",
              "      <td>Second Class</td>\n",
              "      <td>CG-12520</td>\n",
              "      <td>Claire Gute</td>\n",
              "      <td>Consumer</td>\n",
              "      <td>United States</td>\n",
              "      <td>Henderson</td>\n",
              "      <td>...</td>\n",
              "      <td>42420</td>\n",
              "      <td>South</td>\n",
              "      <td>FUR-BO-10001798</td>\n",
              "      <td>Furniture</td>\n",
              "      <td>Bookcases</td>\n",
              "      <td>Bush Somerset Collection Bookcase</td>\n",
              "      <td>261.9600</td>\n",
              "      <td>2</td>\n",
              "      <td>0.00</td>\n",
              "      <td>41.9136</td>\n",
              "    </tr>\n",
              "    <tr>\n",
              "      <th>1</th>\n",
              "      <td>2</td>\n",
              "      <td>CA-2013-152156</td>\n",
              "      <td>2013-11-09</td>\n",
              "      <td>2013-11-12</td>\n",
              "      <td>Second Class</td>\n",
              "      <td>CG-12520</td>\n",
              "      <td>Claire Gute</td>\n",
              "      <td>Consumer</td>\n",
              "      <td>United States</td>\n",
              "      <td>Henderson</td>\n",
              "      <td>...</td>\n",
              "      <td>42420</td>\n",
              "      <td>South</td>\n",
              "      <td>FUR-CH-10000454</td>\n",
              "      <td>Furniture</td>\n",
              "      <td>Chairs</td>\n",
              "      <td>Hon Deluxe Fabric Upholstered Stacking Chairs,...</td>\n",
              "      <td>731.9400</td>\n",
              "      <td>3</td>\n",
              "      <td>0.00</td>\n",
              "      <td>219.5820</td>\n",
              "    </tr>\n",
              "    <tr>\n",
              "      <th>2</th>\n",
              "      <td>3</td>\n",
              "      <td>CA-2013-138688</td>\n",
              "      <td>2013-06-13</td>\n",
              "      <td>2013-06-17</td>\n",
              "      <td>Second Class</td>\n",
              "      <td>DV-13045</td>\n",
              "      <td>Darrin Van Huff</td>\n",
              "      <td>Corporate</td>\n",
              "      <td>United States</td>\n",
              "      <td>Los Angeles</td>\n",
              "      <td>...</td>\n",
              "      <td>90036</td>\n",
              "      <td>West</td>\n",
              "      <td>OFF-LA-10000240</td>\n",
              "      <td>Office Supplies</td>\n",
              "      <td>Labels</td>\n",
              "      <td>Self-Adhesive Address Labels for Typewriters b...</td>\n",
              "      <td>14.6200</td>\n",
              "      <td>2</td>\n",
              "      <td>0.00</td>\n",
              "      <td>6.8714</td>\n",
              "    </tr>\n",
              "    <tr>\n",
              "      <th>3</th>\n",
              "      <td>4</td>\n",
              "      <td>US-2012-108966</td>\n",
              "      <td>2012-10-11</td>\n",
              "      <td>2012-10-18</td>\n",
              "      <td>Standard Class</td>\n",
              "      <td>SO-20335</td>\n",
              "      <td>Sean O'Donnell</td>\n",
              "      <td>Consumer</td>\n",
              "      <td>United States</td>\n",
              "      <td>Fort Lauderdale</td>\n",
              "      <td>...</td>\n",
              "      <td>33311</td>\n",
              "      <td>South</td>\n",
              "      <td>FUR-TA-10000577</td>\n",
              "      <td>Furniture</td>\n",
              "      <td>Tables</td>\n",
              "      <td>Bretford CR4500 Series Slim Rectangular Table</td>\n",
              "      <td>957.5775</td>\n",
              "      <td>5</td>\n",
              "      <td>0.45</td>\n",
              "      <td>-383.0310</td>\n",
              "    </tr>\n",
              "    <tr>\n",
              "      <th>4</th>\n",
              "      <td>5</td>\n",
              "      <td>US-2012-108966</td>\n",
              "      <td>2012-10-11</td>\n",
              "      <td>2012-10-18</td>\n",
              "      <td>Standard Class</td>\n",
              "      <td>SO-20335</td>\n",
              "      <td>Sean O'Donnell</td>\n",
              "      <td>Consumer</td>\n",
              "      <td>United States</td>\n",
              "      <td>Fort Lauderdale</td>\n",
              "      <td>...</td>\n",
              "      <td>33311</td>\n",
              "      <td>South</td>\n",
              "      <td>OFF-ST-10000760</td>\n",
              "      <td>Office Supplies</td>\n",
              "      <td>Storage</td>\n",
              "      <td>Eldon Fold 'N Roll Cart System</td>\n",
              "      <td>22.3680</td>\n",
              "      <td>2</td>\n",
              "      <td>0.20</td>\n",
              "      <td>2.5164</td>\n",
              "    </tr>\n",
              "  </tbody>\n",
              "</table>\n",
              "<p>5 rows × 21 columns</p>\n",
              "</div>"
            ],
            "text/plain": [
              "   Row ID        Order ID Order Date  Ship Date       Ship Mode Customer ID  \\\n",
              "0       1  CA-2013-152156 2013-11-09 2013-11-12    Second Class    CG-12520   \n",
              "1       2  CA-2013-152156 2013-11-09 2013-11-12    Second Class    CG-12520   \n",
              "2       3  CA-2013-138688 2013-06-13 2013-06-17    Second Class    DV-13045   \n",
              "3       4  US-2012-108966 2012-10-11 2012-10-18  Standard Class    SO-20335   \n",
              "4       5  US-2012-108966 2012-10-11 2012-10-18  Standard Class    SO-20335   \n",
              "\n",
              "     Customer Name customer_category        Country             City  ...  \\\n",
              "0      Claire Gute          Consumer  United States        Henderson  ...   \n",
              "1      Claire Gute          Consumer  United States        Henderson  ...   \n",
              "2  Darrin Van Huff         Corporate  United States      Los Angeles  ...   \n",
              "3   Sean O'Donnell          Consumer  United States  Fort Lauderdale  ...   \n",
              "4   Sean O'Donnell          Consumer  United States  Fort Lauderdale  ...   \n",
              "\n",
              "  Postal Code  Region       Product ID         Category Sub-Category  \\\n",
              "0       42420   South  FUR-BO-10001798        Furniture    Bookcases   \n",
              "1       42420   South  FUR-CH-10000454        Furniture       Chairs   \n",
              "2       90036    West  OFF-LA-10000240  Office Supplies       Labels   \n",
              "3       33311   South  FUR-TA-10000577        Furniture       Tables   \n",
              "4       33311   South  OFF-ST-10000760  Office Supplies      Storage   \n",
              "\n",
              "                                        Product Name     Sales  Quantity  \\\n",
              "0                  Bush Somerset Collection Bookcase  261.9600         2   \n",
              "1  Hon Deluxe Fabric Upholstered Stacking Chairs,...  731.9400         3   \n",
              "2  Self-Adhesive Address Labels for Typewriters b...   14.6200         2   \n",
              "3      Bretford CR4500 Series Slim Rectangular Table  957.5775         5   \n",
              "4                     Eldon Fold 'N Roll Cart System   22.3680         2   \n",
              "\n",
              "   Discount    Profit  \n",
              "0      0.00   41.9136  \n",
              "1      0.00  219.5820  \n",
              "2      0.00    6.8714  \n",
              "3      0.45 -383.0310  \n",
              "4      0.20    2.5164  \n",
              "\n",
              "[5 rows x 21 columns]"
            ]
          },
          "execution_count": 9,
          "metadata": {},
          "output_type": "execute_result"
        }
      ],
      "source": [
        "df.rename(columns={\"Segment\":\"customer_category\"}, inplace=True)\n",
        "df.head()"
      ]
    },
    {
      "cell_type": "markdown",
      "id": "efdd1bb7",
      "metadata": {},
      "source": [
        "With real data, it is very likely more cleaning and wrangling would be required. "
      ]
    },
    {
      "cell_type": "markdown",
      "metadata": {},
      "source": [
        "## 3) Build Relational Tables"
      ]
    },
    {
      "cell_type": "code",
      "execution_count": 10,
      "metadata": {},
      "outputs": [],
      "source": [
        "conn = sqlite3.connect('../data/superstore.db')\n",
        "\n",
        "customers_df = df[['Customer ID','Customer Name','customer_category','City','State','Region']].drop_duplicates().rename(columns={\n",
        "    'Customer ID':'customer_id',\n",
        "    'Customer Name':'customer_name',\n",
        "    'City':'city',\n",
        "    'State':'state',\n",
        "    'Region':'region'\n",
        "})\n",
        "\n",
        "products_df = df[['Product ID','Category','Sub-Category','Product Name']].drop_duplicates().rename(columns={\n",
        "    'Product ID':'product_id',\n",
        "    'Category':'category',\n",
        "    'Sub-Category':'subcategory',\n",
        "    'Product Name':'product_name'\n",
        "})\n",
        "\n",
        "orders_df = df[['Order ID','Order Date','Ship Date','Ship Mode','Customer ID']].drop_duplicates().rename(columns={\n",
        "    'Order ID':'order_id',\n",
        "    'Order Date':'order_date',\n",
        "    'Ship Date':'ship_date',\n",
        "    'Ship Mode':'ship_mode',\n",
        "    'Customer ID':'customer_id'\n",
        "})\n",
        "\n",
        "order_details_df = df[['Order ID','Product ID','Sales','Quantity','Discount','Profit']].rename(columns={\n",
        "    'Order ID':'order_id',\n",
        "    'Product ID':'product_id'\n",
        "})\n",
        "\n",
        "customers_df.to_sql('customers', conn, index=False, if_exists='replace')\n",
        "products_df.to_sql('products', conn, index=False, if_exists='replace')\n",
        "orders_df.to_sql('orders', conn, index=False, if_exists='replace')\n",
        "order_details_df.to_sql('order_details', conn, index=False, if_exists='replace')\n",
        "conn.commit()"
      ]
    },
    {
      "cell_type": "markdown",
      "metadata": {},
      "source": [
        "## 4) Make Some Queries!"
      ]
    },
    {
      "cell_type": "markdown",
      "id": "9c43f98a",
      "metadata": {},
      "source": [
        "### Which customer segments bring in the most revenue and profit?"
      ]
    },
    {
      "cell_type": "code",
      "execution_count": null,
      "id": "642cb2ff",
      "metadata": {},
      "outputs": [],
      "source": [
        "query1 = \"\"\" SELECT \n",
        "    c.customer_category,\n",
        "    ROUND(SUM(od.sales), 2) AS total_sales,\n",
        "    ROUND(SUM(od.profit), 2) AS total_profit\n",
        "FROM order_details od\n",
        "JOIN orders o ON od.order_id = o.order_id\n",
        "JOIN customers c ON o.customer_id = c.customer_id\n",
        "GROUP BY c.customer_category\n",
        "ORDER BY total_sales DESC;\n",
        "\"\"\"\n",
        "result1 = pd.read_sql(query1, conn)\n",
        "result1"
      ]
    },
    {
      "cell_type": "markdown",
      "id": "345a6a86",
      "metadata": {},
      "source": [
        "### What are the top 10 customers by total sales?"
      ]
    },
    {
      "cell_type": "code",
      "execution_count": null,
      "id": "73c52cc2",
      "metadata": {},
      "outputs": [],
      "source": [
        "query2 = \"\"\" Your code here! \"\"\"\n",
        "result2 = pd.read_sql(query2, conn)\n",
        "result2"
      ]
    },
    {
      "cell_type": "markdown",
      "id": "4fb5c010",
      "metadata": {},
      "source": [
        "### Which product categories and subcategories are the most profitable overall?"
      ]
    },
    {
      "cell_type": "code",
      "execution_count": null,
      "id": "b04efd3c",
      "metadata": {},
      "outputs": [],
      "source": [
        "query3 = \"\"\" Your code here! \"\"\"\n",
        "result3 = pd.read_sql(query3, conn)\n",
        "result3"
      ]
    },
    {
      "cell_type": "markdown",
      "id": "b1d63547",
      "metadata": {},
      "source": [
        "### What is the average discount given per category?"
      ]
    },
    {
      "cell_type": "code",
      "execution_count": null,
      "id": "08c9c82e",
      "metadata": {},
      "outputs": [],
      "source": [
        "query4 = \"\"\" Your code here! \"\"\"\n",
        "result4 = pd.read_sql(query4, conn)\n",
        "result4"
      ]
    },
    {
      "cell_type": "markdown",
      "id": "bb566a9c",
      "metadata": {},
      "source": [
        "### Which states or regions contribute the most to total sales?"
      ]
    },
    {
      "cell_type": "code",
      "execution_count": null,
      "id": "1cc1c5c3",
      "metadata": {},
      "outputs": [],
      "source": [
        "query5 = \"\"\" Your code here! \"\"\"\n",
        "result5 = pd.read_sql(query5, conn)\n",
        "result5"
      ]
    },
    {
      "cell_type": "markdown",
      "id": "9054ab03",
      "metadata": {},
      "source": [
        "### How many orders were shipped late (where Ship Date > Order Date + 3 days)?"
      ]
    },
    {
      "cell_type": "code",
      "execution_count": null,
      "id": "88e6be99",
      "metadata": {},
      "outputs": [],
      "source": [
        "query6 = \"\"\" Your code here! \"\"\"\n",
        "result6 = pd.read_sql(query6, conn)\n",
        "result6"
      ]
    },
    {
      "cell_type": "markdown",
      "id": "303521d0",
      "metadata": {},
      "source": [
        "### Which month or year had the highest total sales?"
      ]
    },
    {
      "cell_type": "code",
      "execution_count": null,
      "id": "6c2cfa60",
      "metadata": {},
      "outputs": [],
      "source": [
        "query7 = \"\"\" Your code here! \"\"\"\n",
        "result7 = pd.read_sql(query7, conn)\n",
        "result7"
      ]
    },
    {
      "cell_type": "markdown",
      "id": "33bbedf4",
      "metadata": {},
      "source": [
        "### What are the most frequently ordered products?"
      ]
    },
    {
      "cell_type": "code",
      "execution_count": null,
      "id": "6a1f3f4a",
      "metadata": {},
      "outputs": [],
      "source": [
        "query8 = \"\"\" Your code here! \"\"\"\n",
        "result8 = pd.read_sql(query8, conn)\n",
        "result8"
      ]
    },
    {
      "cell_type": "markdown",
      "id": "e0e71242",
      "metadata": {},
      "source": [
        "### Which customers placed more than 5 orders total?"
      ]
    },
    {
      "cell_type": "code",
      "execution_count": null,
      "id": "75085cb6",
      "metadata": {},
      "outputs": [],
      "source": [
        "query9 = \"\"\" Your code here! \"\"\"\n",
        "result9 = pd.read_sql(query9, conn)\n",
        "result9"
      ]
    },
    {
      "cell_type": "markdown",
      "id": "60e76b8e",
      "metadata": {},
      "source": [
        "### What’s the profit margin (profit ÷ sales) by category or segment?"
      ]
    },
    {
      "cell_type": "code",
      "execution_count": null,
      "metadata": {},
      "outputs": [],
      "source": [
        "query10 = \"\"\" Your code here! \"\"\"\n",
        "result10 = pd.read_sql(query10, conn)\n",
        "result10"
      ]
    },
    {
      "cell_type": "markdown",
      "metadata": {},
      "source": [
        "### 5) Visualize it!\n",
        "\n",
        "From your ten results, select at least 4 to utilize in a meaningful visualization. "
      ]
    },
    {
      "cell_type": "code",
      "execution_count": null,
      "id": "90a32f14",
      "metadata": {},
      "outputs": [],
      "source": [
        "# example using result1\n",
        "plt.figure(figsize=(10,6))\n",
        "colors = [\"#a7adaa\", \"#a7adaa\", \"#f74141\" ]\n",
        "sns.barplot(result1, x='customer_category', y='total_sales', palette=colors, hue='customer_category', legend=False)\n",
        "plt.title('Small Offices, Smaller Sales: The Home Office Gap',fontsize=18)\n",
        "plt.xlabel(None)\n",
        "plt.ylabel('Total Sales ($USD)')\n",
        "\n",
        "#for those wondering how to get rid of scientific notation! Set style to plain:\n",
        "plt.ticklabel_format(style='plain', axis='y')\n",
        "\n",
        "#mticker is a great library for helping tick mark formatting, such as adding commas and dollar signs in this case\n",
        "ax = plt.gca()\n",
        "ax.yaxis.set_major_formatter(mticker.FuncFormatter(lambda x, _: f'${x:,.0f}'))\n",
        "\n",
        "#using the seaborn library, despining is way easier!\n",
        "sns.despine()\n",
        "plt.show()\n"
      ]
    },
    {
      "cell_type": "code",
      "execution_count": null,
      "id": "136b3098",
      "metadata": {},
      "outputs": [],
      "source": [
        "# visualization one code here"
      ]
    },
    {
      "cell_type": "code",
      "execution_count": null,
      "id": "49095074",
      "metadata": {},
      "outputs": [],
      "source": [
        "# visualization two code here"
      ]
    },
    {
      "cell_type": "code",
      "execution_count": null,
      "id": "ff61fd84",
      "metadata": {},
      "outputs": [],
      "source": [
        "# visualization three code here"
      ]
    },
    {
      "cell_type": "code",
      "execution_count": null,
      "id": "a074b98e",
      "metadata": {},
      "outputs": [],
      "source": [
        "# visualization four code here"
      ]
    }
  ],
  "metadata": {
    "kernelspec": {
      "display_name": ".venv (3.13.4)",
      "language": "python",
      "name": "python3"
    },
    "language_info": {
      "codemirror_mode": {
        "name": "ipython",
        "version": 3
      },
      "file_extension": ".py",
      "mimetype": "text/x-python",
      "name": "python",
      "nbconvert_exporter": "python",
      "pygments_lexer": "ipython3",
      "version": "3.13.4"
    }
  },
  "nbformat": 4,
  "nbformat_minor": 5
}
